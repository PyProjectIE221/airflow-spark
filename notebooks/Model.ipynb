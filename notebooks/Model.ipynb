{
 "cells": [
  {
   "cell_type": "code",
   "execution_count": 1,
   "metadata": {},
   "outputs": [],
   "source": [
    "from pyspark.sql import SparkSession\n",
    "import findspark\n",
    "import pandas as pd\n",
    "findspark.init()\n",
    "\n",
    "# Spark session & context\n",
    "spark = SparkSession.builder.getOrCreate()"
   ]
  },
  {
   "cell_type": "code",
   "execution_count": 2,
   "metadata": {},
   "outputs": [],
   "source": [
    "spark = SparkSession.builder.getOrCreate()"
   ]
  },
  {
   "cell_type": "code",
   "execution_count": 108,
   "metadata": {},
   "outputs": [],
   "source": [
    "df = spark.read.options(header='True',inferSchema='True',delimiter=',').csv('./BigData/f3.csv')\n",
    "df.show(5)\n",
    "# min = df.agg({\"close\": \"min\"}).collect()\n",
    "# print(min)"
   ]
  },
  {
   "cell_type": "code",
   "execution_count": 135,
   "metadata": {},
   "outputs": [
    {
     "name": "stdout",
     "output_type": "stream",
     "text": [
      "+-----------------+-----------------+-----------------+------------------+-------------------+------------------+-----------------+------------------+--------+------------------+-------------------+-------------------+-----------------+-------------------+--------+-------------+-----------+\n",
      "|            close|    14_period_RSI|14_period_STOCH_K|               MFV|      14_period_ATR|               MOM|    14_period_MFI|               ROC|     OBV|     20_period_CCI|      14_period_EMV|           Williams|    14_period_ADX|     20_period_TRIX|pred_5_4|symbol_encode|price_level|\n",
      "+-----------------+-----------------+-----------------+------------------+-------------------+------------------+-----------------+------------------+--------+------------------+-------------------+-------------------+-----------------+-------------------+--------+-------------+-----------+\n",
      "| 5.94867562943439|70.97639263246325|66.68075841781726| 481284.9656916955|0.14197895158295562|0.3867884771316552|79.21465270102593| 7.042540158461931|320685.0|106.49595538256234| 0.3011951080669036| -33.31924158218275|            100.0| 0.1634006116686997|       1|         92.0|       14.0|\n",
      "|5.900786467873605|66.14525670501646|58.11473058990318|464746.89262438426| 0.1458231552563461|0.3792000480187694|69.36523479441568| 6.115288799272698|301482.0| 78.91904343841418|0.26240753079496926| -41.88526941009681|            100.0| 0.1831849451841619|       1|         92.0|       14.0|\n",
      "|6.127775267784426|74.87487782630483|87.14738912245079| 479851.7018082159|0.16319630933688897|0.6202290542052324|68.89224212524013|10.174390453919994|355393.0| 112.6125043342081| 0.3017062811679443|-12.852610877549205|72.68236979595254|0.20342835558399458|       1|         92.0|       14.0|\n",
      "|6.654096346994006|84.71599026947176|70.68429821726426| 476746.3079418366|0.23022492130272162|1.1108221267393894|70.41630540256696|20.510589548446198|405721.0|216.91186216388286| 1.0580260678217788|-29.315701782735744|74.30307447375284|0.23639590827798435|       0|         92.0|       15.0|\n",
      "|6.716433721583435|85.44323934855434| 74.4704171426357|458941.06056978554| 0.2627323458965439|1.1606617594768132|71.31136358886813| 21.94965709091382|447256.0|198.44978163705554| 1.1878783831247006|-25.529582857364314| 75.2719489385296| 0.2765074224083779|      -1|         92.0|       15.0|\n",
      "+-----------------+-----------------+-----------------+------------------+-------------------+------------------+-----------------+------------------+--------+------------------+-------------------+-------------------+-----------------+-------------------+--------+-------------+-----------+\n",
      "only showing top 5 rows\n",
      "\n"
     ]
    }
   ],
   "source": [
    "#symbol encoder\n",
    "from pyspark.ml.feature import StringIndexer, QuantileDiscretizer\n",
    "\n",
    "df_indexed = StringIndexer(inputCol=\"symbol\", outputCol=\"symbol_encode\").fit(df)\n",
    "df_indexed = df_indexed.transform(df)\n",
    "discretizer = QuantileDiscretizer(numBuckets=75, inputCol=\"close\", outputCol=\"price_level\")\n",
    "df_indexed = discretizer.fit(df_indexed).transform(df_indexed)\n",
    "\n",
    "# df_indexed.select([\"symbol\",\"symbol_encode\"]).distinct().show()\n",
    "df_indexed = df_indexed.drop(\"symbol\",\"Date\",'pred_3','pred_5','pred_7','pred_3_4','pred_10','pred_7_4','pred_10_4')\n",
    "df_indexed.show(5)"
   ]
  },
  {
   "cell_type": "code",
   "execution_count": 136,
   "metadata": {},
   "outputs": [
    {
     "name": "stdout",
     "output_type": "stream",
     "text": [
      "+-----------------+-----------------+-----------------+------------------+-------------------+------------------+-----------------+------------------+--------+------------------+-------------------+-------------------+-----------------+-------------------+-------------+-----------+-----+\n",
      "|            close|    14_period_RSI|14_period_STOCH_K|               MFV|      14_period_ATR|               MOM|    14_period_MFI|               ROC|     OBV|     20_period_CCI|      14_period_EMV|           Williams|    14_period_ADX|     20_period_TRIX|symbol_encode|price_level|label|\n",
      "+-----------------+-----------------+-----------------+------------------+-------------------+------------------+-----------------+------------------+--------+------------------+-------------------+-------------------+-----------------+-------------------+-------------+-----------+-----+\n",
      "| 5.94867562943439|70.97639263246325|66.68075841781726| 481284.9656916955|0.14197895158295562|0.3867884771316552|79.21465270102593| 7.042540158461931|320685.0|106.49595538256234| 0.3011951080669036| -33.31924158218275|            100.0| 0.1634006116686997|         92.0|       14.0|  1.0|\n",
      "|5.900786467873605|66.14525670501646|58.11473058990318|464746.89262438426| 0.1458231552563461|0.3792000480187694|69.36523479441568| 6.115288799272698|301482.0| 78.91904343841418|0.26240753079496926| -41.88526941009681|            100.0| 0.1831849451841619|         92.0|       14.0|  1.0|\n",
      "|6.127775267784426|74.87487782630483|87.14738912245079| 479851.7018082159|0.16319630933688897|0.6202290542052324|68.89224212524013|10.174390453919994|355393.0| 112.6125043342081| 0.3017062811679443|-12.852610877549205|72.68236979595254|0.20342835558399458|         92.0|       14.0|  1.0|\n",
      "|6.654096346994006|84.71599026947176|70.68429821726426| 476746.3079418366|0.23022492130272162|1.1108221267393894|70.41630540256696|20.510589548446198|405721.0|216.91186216388286| 1.0580260678217788|-29.315701782735744|74.30307447375284|0.23639590827798435|         92.0|       15.0|  0.0|\n",
      "|6.716433721583435|85.44323934855434| 74.4704171426357|458941.06056978554| 0.2627323458965439|1.1606617594768132|71.31136358886813| 21.94965709091382|447256.0|198.44978163705554| 1.1878783831247006|-25.529582857364314| 75.2719489385296| 0.2765074224083779|         92.0|       15.0|  2.0|\n",
      "+-----------------+-----------------+-----------------+------------------+-------------------+------------------+-----------------+------------------+--------+------------------+-------------------+-------------------+-----------------+-------------------+-------------+-----------+-----+\n",
      "only showing top 5 rows\n",
      "\n"
     ]
    }
   ],
   "source": [
    "vec_df = StringIndexer(inputCol=\"pred_5_4\", outputCol=\"label\").fit(df_indexed)\n",
    "vec_df = vec_df.transform(df_indexed)\n",
    "vec_df = vec_df.drop(\"pred_5_4\")\n",
    "vec_df.show(5)"
   ]
  },
  {
   "cell_type": "code",
   "execution_count": 137,
   "metadata": {},
   "outputs": [
    {
     "name": "stdout",
     "output_type": "stream",
     "text": [
      "+-----------------+-----------------+-----------------+------------------+-------------------+------------------+-----------------+------------------+--------+------------------+-------------------+-------------------+-----------------+-------------------+-------------+-----------+-----+--------------------+\n",
      "|            close|    14_period_RSI|14_period_STOCH_K|               MFV|      14_period_ATR|               MOM|    14_period_MFI|               ROC|     OBV|     20_period_CCI|      14_period_EMV|           Williams|    14_period_ADX|     20_period_TRIX|symbol_encode|price_level|label|            features|\n",
      "+-----------------+-----------------+-----------------+------------------+-------------------+------------------+-----------------+------------------+--------+------------------+-------------------+-------------------+-----------------+-------------------+-------------+-----------+-----+--------------------+\n",
      "| 5.94867562943439|70.97639263246325|66.68075841781726| 481284.9656916955|0.14197895158295562|0.3867884771316552|79.21465270102593| 7.042540158461931|320685.0|106.49595538256234| 0.3011951080669036| -33.31924158218275|            100.0| 0.1634006116686997|         92.0|       14.0|  1.0|[5.94867562943439...|\n",
      "|5.900786467873605|66.14525670501646|58.11473058990318|464746.89262438426| 0.1458231552563461|0.3792000480187694|69.36523479441568| 6.115288799272698|301482.0| 78.91904343841418|0.26240753079496926| -41.88526941009681|            100.0| 0.1831849451841619|         92.0|       14.0|  1.0|[5.90078646787360...|\n",
      "|6.127775267784426|74.87487782630483|87.14738912245079| 479851.7018082159|0.16319630933688897|0.6202290542052324|68.89224212524013|10.174390453919994|355393.0| 112.6125043342081| 0.3017062811679443|-12.852610877549205|72.68236979595254|0.20342835558399458|         92.0|       14.0|  1.0|[6.12777526778442...|\n",
      "|6.654096346994006|84.71599026947176|70.68429821726426| 476746.3079418366|0.23022492130272162|1.1108221267393894|70.41630540256696|20.510589548446198|405721.0|216.91186216388286| 1.0580260678217788|-29.315701782735744|74.30307447375284|0.23639590827798435|         92.0|       15.0|  0.0|[6.65409634699400...|\n",
      "|6.716433721583435|85.44323934855434| 74.4704171426357|458941.06056978554| 0.2627323458965439|1.1606617594768132|71.31136358886813| 21.94965709091382|447256.0|198.44978163705554| 1.1878783831247006|-25.529582857364314| 75.2719489385296| 0.2765074224083779|         92.0|       15.0|  2.0|[6.71643372158343...|\n",
      "+-----------------+-----------------+-----------------+------------------+-------------------+------------------+-----------------+------------------+--------+------------------+-------------------+-------------------+-----------------+-------------------+-------------+-----------+-----+--------------------+\n",
      "only showing top 5 rows\n",
      "\n"
     ]
    }
   ],
   "source": [
    "from pyspark.ml.feature import VectorAssembler\n",
    "feature_col = vec_df.columns[0:16]\n",
    "vec = VectorAssembler(inputCols=feature_col, outputCol=\"features\")\n",
    "final_df = vec.transform(vec_df)\n",
    "final_df.show(5)"
   ]
  },
  {
   "cell_type": "code",
   "execution_count": 138,
   "metadata": {},
   "outputs": [],
   "source": [
    "from pyspark.ml import Pipeline\n",
    "from pyspark.ml.classification import  LinearSVC, RandomForestClassifier, DecisionTreeClassifier, LogisticRegression, NaiveBayes\n",
    "from pyspark.ml.feature import IndexToString, StringIndexer, VectorIndexer"
   ]
  },
  {
   "cell_type": "code",
   "execution_count": 139,
   "metadata": {},
   "outputs": [],
   "source": [
    "#Stage1\n",
    "labelIndexer = StringIndexer(inputCol=\"label\", outputCol=\"indexLabel\").fit(final_df)\n",
    "# labelIndexer.transform(df_indexed).show(5)"
   ]
  },
  {
   "cell_type": "code",
   "execution_count": 140,
   "metadata": {},
   "outputs": [],
   "source": [
    "#Stage2\n",
    "# Automatically identify categorical features, and index them.\n",
    "# Set maxCategories so features with > 4 distinct values are treated as continuous.\n",
    "featureIndexer =\\\n",
    "    VectorIndexer(inputCol=\"features\", outputCol=\"indexFeatures\", maxCategories=4).fit(final_df)"
   ]
  },
  {
   "cell_type": "code",
   "execution_count": 141,
   "metadata": {},
   "outputs": [],
   "source": [
    "#Stage3\n",
    "# Train a DecisionTree model.\n",
    "dt = DecisionTreeClassifier(labelCol=\"indexLabel\", featuresCol=\"indexFeatures\")\n",
    "\n",
    "# Train a LogisticRegression model.\n",
    "lr = LogisticRegression(labelCol=\"indexLabel\", featuresCol=\"indexFeatures\", maxIter=10, regParam=0.3, elasticNetParam=0.8)\n",
    "\n",
    "# Train a RandomForestClassifier model.\n",
    "rf = RandomForestClassifier(labelCol=\"indexLabel\", featuresCol=\"indexFeatures\", numTrees=10)\n",
    "\n",
    "# Train a LinearSVC model.\n",
    "lsvc = LinearSVC(labelCol=\"indexLabel\", featuresCol=\"indexFeatures\", maxIter=10, regParam=0.1)\n",
    "\n",
    "# Train a NaiveBayes model.\n",
    "nb = NaiveBayes(labelCol=\"indexLabel\", featuresCol=\"indexFeatures\", smoothing=1.0, modelType=\"multinomial\")"
   ]
  },
  {
   "cell_type": "code",
   "execution_count": 142,
   "metadata": {},
   "outputs": [],
   "source": [
    "# Chain indexers and tree in a Pipeline\n",
    "pipeline = Pipeline(stages=[labelIndexer, featureIndexer, lr])"
   ]
  },
  {
   "cell_type": "code",
   "execution_count": 143,
   "metadata": {},
   "outputs": [],
   "source": [
    "# Split the data into training and test sets \n",
    "(trainingData, testData) = final_df.randomSplit(weights=[0.8,0.2], seed = 2000)"
   ]
  },
  {
   "cell_type": "code",
   "execution_count": 144,
   "metadata": {},
   "outputs": [
    {
     "name": "stdout",
     "output_type": "stream",
     "text": [
      "+----------+----------+--------------------+\n",
      "|prediction|indexLabel|            features|\n",
      "+----------+----------+--------------------+\n",
      "|       0.0|       2.0|[0.05664763008762...|\n",
      "|       0.0|       2.0|[0.05717808714818...|\n",
      "|       0.0|       1.0|[0.05742008230245...|\n",
      "|       0.0|       0.0|[0.05833304418646...|\n",
      "|       0.0|       2.0|[0.05983068078971...|\n",
      "+----------+----------+--------------------+\n",
      "only showing top 5 rows\n",
      "\n"
     ]
    }
   ],
   "source": [
    "# Train model.  This also runs the indexers.\n",
    "model = pipeline.fit(trainingData)\n",
    "\n",
    "# Make predictions.\n",
    "predictions = model.transform(testData)\n",
    "\n",
    "# Select example rows to display.\n",
    "predictions.select(\"prediction\", \"indexLabel\", \"features\").show(5)"
   ]
  },
  {
   "cell_type": "code",
   "execution_count": 145,
   "metadata": {},
   "outputs": [
    {
     "name": "stdout",
     "output_type": "stream",
     "text": [
      "0.7556218274111676\n"
     ]
    }
   ],
   "source": [
    "from pyspark.ml.evaluation import MulticlassClassificationEvaluator\n",
    "# Select (prediction, true label) and compute test error\n",
    "evaluator = MulticlassClassificationEvaluator(\n",
    "    labelCol=\"indexLabel\", predictionCol=\"prediction\", metricName=\"accuracy\")\n",
    "accuracy = evaluator.evaluate(predictions)\n",
    "print(accuracy)"
   ]
  },
  {
   "cell_type": "code",
   "execution_count": 146,
   "metadata": {},
   "outputs": [
    {
     "name": "stdout",
     "output_type": "stream",
     "text": [
      "              precision    recall  f1-score   support\n",
      "\n",
      "         0.0       0.76      1.00      0.86    238172\n",
      "         1.0       0.00      0.00      0.00     42564\n",
      "         2.0       0.00      0.00      0.00     34464\n",
      "\n",
      "    accuracy                           0.76    315200\n",
      "   macro avg       0.25      0.33      0.29    315200\n",
      "weighted avg       0.57      0.76      0.65    315200\n",
      "\n"
     ]
    }
   ],
   "source": [
    "#Visualize result\n",
    "from pyspark.mllib.evaluation import MulticlassMetrics\n",
    "y_true = predictions.select(['indexLabel']).collect()\n",
    "y_pred = predictions.select(['prediction']).collect()\n",
    "\n",
    "from sklearn.metrics import classification_report, confusion_matrix\n",
    "print(classification_report(y_true, y_pred))"
   ]
  },
  {
   "cell_type": "code",
   "execution_count": null,
   "metadata": {},
   "outputs": [],
   "source": []
  }
 ],
 "metadata": {
  "kernelspec": {
   "display_name": "Python 3",
   "language": "python",
   "name": "python3"
  },
  "language_info": {
   "codemirror_mode": {
    "name": "ipython",
    "version": 3
   },
   "file_extension": ".py",
   "mimetype": "text/x-python",
   "name": "python",
   "nbconvert_exporter": "python",
   "pygments_lexer": "ipython3",
   "version": "3.8.3"
  }
 },
 "nbformat": 4,
 "nbformat_minor": 4
}
