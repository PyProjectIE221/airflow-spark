{
 "cells": [
  {
   "cell_type": "code",
   "execution_count": 2,
   "metadata": {},
   "outputs": [
    {
     "name": "stderr",
     "output_type": "stream",
     "text": [
      "WARNING: An illegal reflective access operation has occurred\n",
      "WARNING: Illegal reflective access by org.apache.spark.unsafe.Platform (file:/usr/local/spark-3.1.2-bin-hadoop3.2/jars/spark-unsafe_2.12-3.1.2.jar) to constructor java.nio.DirectByteBuffer(long,int)\n",
      "WARNING: Please consider reporting this to the maintainers of org.apache.spark.unsafe.Platform\n",
      "WARNING: Use --illegal-access=warn to enable warnings of further illegal reflective access operations\n",
      "WARNING: All illegal access operations will be denied in a future release\n",
      "22/01/17 02:56:20 WARN NativeCodeLoader: Unable to load native-hadoop library for your platform... using builtin-java classes where applicable\n",
      "Using Spark's default log4j profile: org/apache/spark/log4j-defaults.properties\n",
      "Setting default log level to \"WARN\".\n",
      "To adjust logging level use sc.setLogLevel(newLevel). For SparkR, use setLogLevel(newLevel).\n"
     ]
    }
   ],
   "source": [
    "from pyspark.sql import SparkSession\n",
    "\n",
    "# Spark session & context\n",
    "spark = (SparkSession\n",
    "         .builder\n",
    "         .master(\"local\")\n",
    "         .appName(\"raw-dataset\")\n",
    "         # Add postgres jar\n",
    "         .config(\"spark.driver.extraClassPath\", \"/home/jovyan/work/jars/postgresql-9.4.1207.jar\")\n",
    "         .getOrCreate())\n",
    "sc = spark.sparkContext"
   ]
  },
  {
   "cell_type": "code",
   "execution_count": 3,
   "metadata": {},
   "outputs": [
    {
     "name": "stderr",
     "output_type": "stream",
     "text": [
      "                                                                                \r"
     ]
    }
   ],
   "source": [
    "#Read data\n",
    "df = spark.read.options(header='True',inferSchema='True',delimiter=',').csv('/home/jovyan/work/data/stock_data_final')"
   ]
  },
  {
   "cell_type": "code",
   "execution_count": 6,
   "metadata": {},
   "outputs": [],
   "source": [
    "from pyspark.ml import Transformer\n",
    "from pyspark.sql import DataFrame\n",
    "from pyspark.sql.functions import col, udf\n",
    "from pyspark.sql.types import DoubleType \n"
   ]
  },
  {
   "cell_type": "code",
   "execution_count": 7,
   "metadata": {},
   "outputs": [
    {
     "name": "stderr",
     "output_type": "stream",
     "text": [
      "                                                                                \r"
     ]
    }
   ],
   "source": [
    "#Get class weight to deal with imbalance data\n",
    "\n",
    "label = 'pred_5_5p'\n",
    "\n",
    "up = df.filter(col(label) == 'up').count()\n",
    "down = df.filter(col(label) == 'down').count()\n",
    "sw = df.filter(col(label) == 'sw').count()\n",
    "total = df.count()\n",
    "\n",
    "wup = total/(3*up)\n",
    "wdown = total/(3*down)\n",
    "sw = total/(3*sw)\n",
    "\n",
    "calculateWeights = udf(lambda x: wup if x == \"up\" else (wdown if x==\"down\" else (sw)),DoubleType())\n",
    "df =  df.withColumn(\"classWeightCol\", calculateWeights(label))"
   ]
  },
  {
   "cell_type": "code",
   "execution_count": 8,
   "metadata": {},
   "outputs": [],
   "source": [
    "from pyspark.ml import Pipeline\n",
    "from pyspark.ml.classification import  DecisionTreeClassifier\n",
    "from pyspark.ml.feature import IndexToString, StringIndexer, VectorIndexer, VectorAssembler, StandardScaler\n",
    "\n",
    "# Choose optine label\n",
    "label = 'pred_5_5p'\n",
    "\n",
    "\n",
    "#Stage 1: pre Features\n",
    "vec = VectorAssembler(inputCols=['14_period_RSI', '14_period_STOCH_K', 'MFV', '14_period_ATR', 'MOM', \\\n",
    "                                 '14_period_MFI', 'ROC', 'OBV', '20_period_CCI', '14_period_EMV', \\\n",
    "                                 'Williams', '14_period_ADX', '20_period_TRIX'], outputCol=\"NumFeatures\")\n",
    "\n",
    "# Stage 2: standardscaler Features\n",
    "standardscaler = StandardScaler(inputCol=\"NumFeatures\", outputCol=\"features\", withMean=True, withStd=True)\n",
    "\n",
    "# Stage 3: get Label\n",
    "labelIndexer = StringIndexer(inputCol=label, outputCol=\"indexLabel\")\n",
    "\n",
    "# Stage 4: get Features\n",
    "featureIndexer = VectorIndexer(inputCol=\"features\", outputCol=\"indexFeatures\", maxCategories=4)\n",
    "\n",
    "# Stage 5: Model\n",
    "dt = DecisionTreeClassifier(labelCol=\"indexLabel\", featuresCol=\"indexFeatures\", weightCol='classWeightCol')\n",
    "\n",
    "# Final pipeline\n",
    "pipeline_dt = Pipeline(stages=[vec, standardscaler, labelIndexer, featureIndexer, dt])"
   ]
  },
  {
   "cell_type": "code",
   "execution_count": 9,
   "metadata": {},
   "outputs": [
    {
     "name": "stderr",
     "output_type": "stream",
     "text": [
      "22/01/17 03:01:51 WARN package: Truncated the string representation of a plan since it was too large. This behavior can be adjusted by setting 'spark.sql.debug.maxToStringFields'.\n",
      "                                                                                \r"
     ]
    }
   ],
   "source": [
    "#Train model\n",
    "# Split the data into training and test sets \n",
    "(trainingData, testData) = df.randomSplit(weights=[0.8,0.2], seed = 2000)\n",
    "\n",
    "# Train model.  This also runs the indexers.\n",
    "model_dt = pipeline_dt.fit(trainingData)\n",
    "\n",
    "# model_lr = pipeline_lr.fit(trainingData)\n",
    "\n",
    "# model_rf = pipeline_rf.fit(trainingData)"
   ]
  },
  {
   "cell_type": "code",
   "execution_count": 44,
   "metadata": {},
   "outputs": [
    {
     "name": "stderr",
     "output_type": "stream",
     "text": [
      "                                                                                \r"
     ]
    }
   ],
   "source": [
    "# Save model\n",
    "modelname = 'DT_5d_5p'\n",
    "model_dt.write().overwrite().save(\"/home/jovyan/work/notebooks/model/\" + modelname)"
   ]
  },
  {
   "cell_type": "code",
   "execution_count": 47,
   "metadata": {},
   "outputs": [],
   "source": [
    "from pyspark.ml import PipelineModel\n",
    "pipelineModel = PipelineModel.load(\"/home/jovyan/work/notebooks/model/\" + modelname)\n",
    "test = pipelineModel.transform(testData)\n"
   ]
  },
  {
   "cell_type": "code",
   "execution_count": 48,
   "metadata": {},
   "outputs": [
    {
     "name": "stderr",
     "output_type": "stream",
     "text": [
      "\r",
      "[Stage 134:>                                                        (0 + 1) / 1]\r"
     ]
    },
    {
     "name": "stdout",
     "output_type": "stream",
     "text": [
      "+----------+----------+--------------------+\n",
      "|prediction|indexLabel|            features|\n",
      "+----------+----------+--------------------+\n",
      "|       0.0|       0.0|[1.72114180191364...|\n",
      "|       0.0|       0.0|[1.65607442054934...|\n",
      "|       0.0|       0.0|[1.12868033529626...|\n",
      "|       0.0|       0.0|[1.06735827067081...|\n",
      "|       0.0|       0.0|[-1.6232517526980...|\n",
      "+----------+----------+--------------------+\n",
      "only showing top 5 rows\n",
      "\n"
     ]
    },
    {
     "name": "stderr",
     "output_type": "stream",
     "text": [
      "\r",
      "                                                                                \r"
     ]
    }
   ],
   "source": [
    "test.select(\"prediction\", \"indexLabel\", \"features\").show(5)"
   ]
  },
  {
   "cell_type": "code",
   "execution_count": 10,
   "metadata": {},
   "outputs": [
    {
     "name": "stderr",
     "output_type": "stream",
     "text": [
      "\r",
      "[Stage 29:>                                                         (0 + 1) / 1]\r"
     ]
    },
    {
     "name": "stdout",
     "output_type": "stream",
     "text": [
      "+----------+----------+--------------------+\n",
      "|prediction|indexLabel|            features|\n",
      "+----------+----------+--------------------+\n",
      "|       0.0|       0.0|[1.72114180191364...|\n",
      "|       0.0|       0.0|[1.65607442054934...|\n",
      "|       0.0|       0.0|[1.12868033529626...|\n",
      "|       0.0|       0.0|[1.06735827067081...|\n",
      "|       0.0|       0.0|[-1.6232517526980...|\n",
      "+----------+----------+--------------------+\n",
      "only showing top 5 rows\n",
      "\n"
     ]
    },
    {
     "name": "stderr",
     "output_type": "stream",
     "text": [
      "\r",
      "                                                                                \r"
     ]
    }
   ],
   "source": [
    "# Make predictions.\n",
    "predictions_dt = model_dt.transform(testData)\n",
    "\n",
    "# predictions_lr = model_lr.transform(testData)\n",
    "\n",
    "# predictions_rf = model_rf.transform(testData)\n",
    "\n",
    "# Select example rows to display.\n",
    "predictions_dt.select(\"prediction\", \"indexLabel\", \"features\").show(5)\n",
    "\n",
    "# predictions_lr.select(\"prediction\", \"indexLabel\", \"features\").show(5)\n",
    "\n",
    "# predictions_rf.select(\"prediction\", \"indexLabel\", \"features\").show(5)"
   ]
  },
  {
   "cell_type": "code",
   "execution_count": 11,
   "metadata": {},
   "outputs": [
    {
     "name": "stderr",
     "output_type": "stream",
     "text": [
      "[Stage 30:===========================================>              (3 + 1) / 4]\r"
     ]
    },
    {
     "name": "stdout",
     "output_type": "stream",
     "text": [
      "accuracy dt : 0.6741401338503045\n"
     ]
    },
    {
     "name": "stderr",
     "output_type": "stream",
     "text": [
      "\r",
      "                                                                                \r"
     ]
    }
   ],
   "source": [
    "# Test result\n",
    "from pyspark.ml.evaluation import MulticlassClassificationEvaluator\n",
    "# Select (prediction, true label) and compute test error\n",
    "evaluator = MulticlassClassificationEvaluator(\n",
    "    labelCol=\"indexLabel\", predictionCol=\"prediction\", metricName=\"accuracy\")\n",
    "accuracy_dt = evaluator.evaluate(predictions_dt)\n",
    "\n",
    "# accuracy_lr = evaluator.evaluate(predictions_lr)\n",
    "\n",
    "# accuracy_rf = evaluator.evaluate(predictions_rf)\n",
    "\n",
    "# print('accuracy dt lr rf:', accuracy_dt, accuracy_lr, accuracy_rf)\n",
    "print('accuracy dt :', accuracy_dt)"
   ]
  },
  {
   "cell_type": "code",
   "execution_count": 12,
   "metadata": {},
   "outputs": [
    {
     "name": "stderr",
     "output_type": "stream",
     "text": [
      "                                                                                \r"
     ]
    },
    {
     "name": "stdout",
     "output_type": "stream",
     "text": [
      "              precision    recall  f1-score   support\n",
      "\n",
      "         0.0       0.88      0.75      0.81    261947\n",
      "         1.0       0.16      0.31      0.22     29790\n",
      "         2.0       0.16      0.24      0.20     23690\n",
      "\n",
      "    accuracy                           0.67    315427\n",
      "   macro avg       0.40      0.44      0.41    315427\n",
      "weighted avg       0.76      0.67      0.71    315427\n",
      "\n",
      "[[197517  40930  23500]\n",
      " [ 14537   9330   5923]\n",
      " [ 11436   6459   5795]]\n"
     ]
    }
   ],
   "source": [
    "#Visualize result\n",
    "from pyspark.mllib.evaluation import MulticlassMetrics\n",
    "y_true = predictions_dt.select(['indexLabel']).collect()\n",
    "y_pred = predictions_dt.select(['prediction']).collect()\n",
    "\n",
    "from sklearn.metrics import classification_report, confusion_matrix\n",
    "print(classification_report(y_true, y_pred))\n",
    "print(confusion_matrix(y_true, y_pred))\n",
    "\n"
   ]
  },
  {
   "cell_type": "code",
   "execution_count": null,
   "metadata": {},
   "outputs": [],
   "source": []
  }
 ],
 "metadata": {
  "kernelspec": {
   "display_name": "Python 3 (ipykernel)",
   "language": "python",
   "name": "python3"
  },
  "language_info": {
   "codemirror_mode": {
    "name": "ipython",
    "version": 3
   },
   "file_extension": ".py",
   "mimetype": "text/x-python",
   "name": "python",
   "nbconvert_exporter": "python",
   "pygments_lexer": "ipython3",
   "version": "3.9.7"
  }
 },
 "nbformat": 4,
 "nbformat_minor": 4
}
