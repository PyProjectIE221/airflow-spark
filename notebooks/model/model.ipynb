{
 "cells": [
  {
   "cell_type": "code",
   "execution_count": 1,
   "id": "53223df3",
   "metadata": {},
   "outputs": [
    {
     "name": "stderr",
     "output_type": "stream",
     "text": [
      "WARNING: An illegal reflective access operation has occurred\n",
      "WARNING: Illegal reflective access by org.apache.spark.unsafe.Platform (file:/usr/local/spark-3.1.2-bin-hadoop3.2/jars/spark-unsafe_2.12-3.1.2.jar) to constructor java.nio.DirectByteBuffer(long,int)\n",
      "WARNING: Please consider reporting this to the maintainers of org.apache.spark.unsafe.Platform\n",
      "WARNING: Use --illegal-access=warn to enable warnings of further illegal reflective access operations\n",
      "WARNING: All illegal access operations will be denied in a future release\n",
      "22/01/07 05:46:53 WARN NativeCodeLoader: Unable to load native-hadoop library for your platform... using builtin-java classes where applicable\n",
      "Using Spark's default log4j profile: org/apache/spark/log4j-defaults.properties\n",
      "Setting default log level to \"WARN\".\n",
      "To adjust logging level use sc.setLogLevel(newLevel). For SparkR, use setLogLevel(newLevel).\n"
     ]
    }
   ],
   "source": [
    "from pyspark.sql import SparkSession\n",
    "import findspark\n",
    "import pandas as pd\n",
    "findspark.init()\n",
    "\n",
    "# Spark session & context\n",
    "spark = (SparkSession\n",
    "         .builder\n",
    "         .master(\"local\")\n",
    "         .appName(\"model-creation\")\n",
    "         # Add postgres jar\n",
    "         .config(\"spark.driver.extraClassPath\", \"/home/jovyan/work/jars/postgresql-9.4.1207.jar\")\n",
    "         .getOrCreate())\n",
    "sc = spark.sparkContext"
   ]
  },
  {
   "cell_type": "code",
   "execution_count": 2,
   "id": "2963f8f6",
   "metadata": {},
   "outputs": [
    {
     "name": "stderr",
     "output_type": "stream",
     "text": [
      "                                                                                \r"
     ]
    },
    {
     "name": "stdout",
     "output_type": "stream",
     "text": [
      "+----------+------+------+------------------+------------------+------------------+-------------------+-------+------------------+-------------------+--------+-------------------+--------------------+------------------+------------------+--------------------+------+------+------+-------+\n",
      "|      Date| close|symbol|     14_period_RSI| 14_period_STOCH_K|               MFV|      14_period_ATR|    MOM|     14_period_MFI|                ROC|     OBV|      20_period_CCI|       14_period_EMV|          Williams|     14_period_ADX|      20_period_TRIX|pred_3|pred_5|pred_7|pred_10|\n",
      "+----------+------+------+------------------+------------------+------------------+-------------------+-------+------------------+-------------------+--------+-------------------+--------------------+------------------+------------------+--------------------+------+------+------+-------+\n",
      "|1987-08-28|6.4375|  ABMD| 59.41557540827517| 44.11764705882353|          292820.0|0.36607142857142855|   0.25| 66.97030346447272|  8.421052631578947|266000.0| 62.011637572734834|   1.351568854371911|-55.88235294117647| 65.57334000198955| 0.43677190127364457|     0|     0|     0|      0|\n",
      "|1987-08-31| 6.375|  ABMD| 57.62757273384734| 41.17647058823529|          288620.0|0.36607142857142855| 0.3125| 61.96411715403703|  4.081632653061225|261800.0| 49.616368286444946|  1.2707536674724091|-58.82352941176471| 62.70703701046163| 0.44840136827452304|     0|     0|     0|      0|\n",
      "|1987-09-03|  6.25|  ABMD| 53.59850491182521|21.428571428571427|          291220.0|0.32589285714285715|    0.0|50.072316002029226|  6.382978723404255|255800.0| -4.523956405511094| 0.31693641614005813|-78.57142857142857|53.520471104602116| 0.44882660408346864|     0|     0|     0|      0|\n",
      "|1987-09-04| 5.875|  ABMD|43.722428067038194|               0.0|          274620.0| 0.3392857142857143|-1.0625| 50.96455437324721|                0.0|239200.0|-53.438458169075915| 0.15260522338434135|            -100.0|  48.7143236716218|  0.4319787571856323|     0|     0|     0|      0|\n",
      "|1987-09-08|5.4375|  ABMD| 35.50320421891479|               0.0|          259420.0|0.35267857142857145|-1.3125| 53.14298020949683|              -13.0|224000.0|-142.32209737827714| -0.6236652696395917|            -100.0| 44.90850601359988| 0.39991219369698067|     1|     1|     0|      0|\n",
      "|1987-09-11|5.8125|  ABMD| 46.30855539628115|              25.0|          261020.0|0.26339285714285715|   -0.5|29.225757255972596|-16.216216216216218|237800.0| -82.62525637269279| -1.9550515495527485|             -75.0|36.615732524415534| 0.26539412701659315|     0|     0|     0|      0|\n",
      "|1987-09-14|5.9375|  ABMD| 49.35438778697818|32.142857142857146|          263820.0|               0.25|   -0.5| 37.87089267194496| -9.523809523809524|240600.0| -51.18035882908386|  -1.649063410411222|-67.85714285714286| 34.36622217270758| 0.22605901892852406|     0|     0|     0|      0|\n",
      "|1987-09-15| 5.875|  ABMD|47.891490112622634| 33.33333333333333|          266820.0|0.23214285714285715|   -0.5| 17.97535754289703|-6.9306930693069315|237600.0| -58.60805860805855| -1.7666885854812502|-66.66666666666666| 31.94263170039256| 0.19044181899051646|     0|     0|     0|      0|\n",
      "|1987-09-16| 5.625|  ABMD| 42.46893222480397|              20.0|          260820.0|0.22321428571428573|  -0.75|21.137999274592275| -12.62135922330097|231600.0|   -82.297999823773| -1.8277237417312502|             -80.0|29.605740549157993| 0.15434469424122813|     0|     0|     0|      0|\n",
      "|1987-09-17|   5.5|  ABMD| 40.02848358339092|10.526315789473683|          258420.0|0.20982142857142858| -0.875|25.953763096419337|-13.725490196078432|229200.0|-101.53640614562465|  -1.910764770642815|-89.47368421052632| 28.21999362489934| 0.11681643150720014|     1|     0|     0|      0|\n",
      "|1987-09-22| 5.625|  ABMD| 44.04449725697236|              25.0|          266620.0|             0.1875| 0.1875|31.928728042541394|              -10.0|237400.0| -66.61448821636671| -1.7513665029515921|             -75.0|23.821561533560885|0.009254978641010632|     1|     0|     0|      0|\n",
      "|1987-10-14|5.0625|  ABMD|32.330490092120954|               0.0| 235686.6666666667|0.18303571428571427|-0.3125|41.002223768863836|-10.989010989010989|214600.0|-176.92477388043258|-0.10733233731585415|            -100.0|18.500018939166686|-0.14770593351136055|     0|     0|     0|      0|\n",
      "|1987-10-15|4.8125|  ABMD| 28.24984826908836| 4.761904761904762|223829.52380952382|0.20982142857142858|-1.0625| 34.90033902267945|-10.465116279069768|198000.0|-243.10216256524973| -1.3931676428235993|-95.23809523809523| 19.51222442700824|-0.16791974591068173|     0|     0|     0|      0|\n",
      "|1987-10-16|   4.5|  ABMD|24.147091969919416|               0.0|199029.52380952382|0.23214285714285715|   -1.5|27.340054767239238| -16.27906976744186|173200.0| -256.0258671369782| -1.8078370388077993|            -100.0|20.899629698718243|-0.19884693396716485|     0|     0|     0|      0|\n",
      "|1987-10-19|  3.25|  ABMD|14.854165057150766| 11.76470588235294|166794.74120082817|0.32589285714285715|-2.6875| 20.95666983107769|-44.680851063829785|105800.0| -358.3049564888383| -2.8241409546619747|-88.23529411764706| 23.59728824379304|  -0.255619964066987|     1|     1|     0|      1|\n",
      "|1987-10-20| 3.375|  ABMD|18.242602163515016|15.686274509803921| 181623.3126293996|0.35714285714285715|   -2.5| 18.68836837313775|             -43.75|140400.0| -263.2825719120133| -3.1063844517718016|-84.31372549019608|26.088567275997317| -0.3283167777771728|     1|     1|     1|      1|\n",
      "|1987-10-21|   4.0|  ABMD| 32.67030955827477|35.294117647058826|198401.09040717737|              0.375|  -1.75| 21.70504213040148|-32.631578947368425|170600.0|-149.30674916924477| -2.9957804005486635|-64.70588235294117|27.148203880352025|-0.40165203226055457|     0|     0|     0|      0|\n",
      "|1987-10-22| 3.375|  ABMD|27.453018639582268|15.686274509803921|178801.09040717737|            0.40625| -2.375|15.352339092037525|  -42.5531914893617|151000.0| -147.7339611536197| -3.6675397966925654|-84.31372549019608|28.263050974970533|-0.48310179478243737|     1|     1|     1|      1|\n",
      "|1987-10-23| 3.625|  ABMD|32.122436334993225|24.489795918367346|183801.09040717737| 0.4107142857142857|-2.0625|16.362745183090283| -36.95652173913043|156000.0|-124.72666841598884|  -4.055292554045507|-75.51020408163265|29.293767152791283| -0.5648228584285191|     0|     1|     1|      1|\n",
      "|1987-10-26| 3.375|  ABMD| 30.04019613996715|  16.3265306122449|178801.09040717737|0.42410714285714285| -2.125| 16.33115140180442| -41.30434782608695|151000.0|-115.47733847637417|   -4.11538870789166| -83.6734693877551|30.294889523038798| -0.6485596756445067|     0|     1|     1|      0|\n",
      "+----------+------+------+------------------+------------------+------------------+-------------------+-------+------------------+-------------------+--------+-------------------+--------------------+------------------+------------------+--------------------+------+------+------+-------+\n",
      "only showing top 20 rows\n",
      "\n"
     ]
    }
   ],
   "source": [
    "df = spark.read.options(header='True',inferSchema='True',delimiter=',').csv('/home/jovyan/work/data/dataset_final')\n",
    "df.show()"
   ]
  },
  {
   "cell_type": "code",
   "execution_count": 3,
   "id": "eac99af5",
   "metadata": {},
   "outputs": [
    {
     "name": "stderr",
     "output_type": "stream",
     "text": [
      "                                                                                \r"
     ]
    },
    {
     "name": "stdout",
     "output_type": "stream",
     "text": [
      "+------+-------------+\n",
      "|symbol|symbol_encode|\n",
      "+------+-------------+\n",
      "|   DVA|        124.0|\n",
      "|   DXC|         55.0|\n",
      "|   BMY|         13.0|\n",
      "|   ADP|         40.0|\n",
      "|   COO|         72.0|\n",
      "|   ECL|         24.0|\n",
      "|  CTXS|        121.0|\n",
      "|   CVX|          5.0|\n",
      "|   AIG|         37.0|\n",
      "|  AMAT|         48.0|\n",
      "|   EFX|         58.0|\n",
      "|   COP|         62.0|\n",
      "|   EMR|         14.0|\n",
      "|   FIS|        149.0|\n",
      "|   AEE|        136.0|\n",
      "|   ADM|         51.0|\n",
      "|   ACN|        150.0|\n",
      "|   ATO|         82.0|\n",
      "|   MMM|          9.0|\n",
      "|   BRO|        127.0|\n",
      "+------+-------------+\n",
      "only showing top 20 rows\n",
      "\n"
     ]
    },
    {
     "name": "stderr",
     "output_type": "stream",
     "text": [
      "\r",
      "[Stage 10:======================================>                 (13 + 1) / 19]\r",
      "\r",
      "                                                                                \r"
     ]
    }
   ],
   "source": [
    "#symbol encoder\n",
    "from pyspark.ml.feature import StringIndexer\n",
    "\n",
    "indexer = StringIndexer(inputCol=\"symbol\", outputCol=\"symbol_encode\")\n",
    "df_indexed = indexer.fit(df).transform(df)\n",
    "df_indexed.select([\"symbol\",\"symbol_encode\"]).distinct().show()\n",
    "df_indexed = df_indexed.drop(\"symbol\")"
   ]
  },
  {
   "cell_type": "code",
   "execution_count": 16,
   "id": "8b67b060",
   "metadata": {},
   "outputs": [],
   "source": [
    "from pyspark.ml.feature import VectorAssembler\n",
    "\n",
    "feature_col = df_indexed.columns[2:15]\n",
    "vec = VectorAssembler(inputCols=feature_col, outputCol=\"features\")\n",
    "vec_df = vec.transform(df_indexed)"
   ]
  },
  {
   "cell_type": "code",
   "execution_count": 17,
   "id": "588ea277",
   "metadata": {},
   "outputs": [],
   "source": [
    "vec_df = vec_df.withColumnRenamed(\"pred_3\",\"label\")"
   ]
  },
  {
   "cell_type": "code",
   "execution_count": 18,
   "id": "63300caf",
   "metadata": {},
   "outputs": [],
   "source": [
    "train, test = vec_df.randomSplit(weights=[0.8,0.2], seed=200)"
   ]
  },
  {
   "cell_type": "code",
   "execution_count": 19,
   "id": "693a1d6a",
   "metadata": {},
   "outputs": [
    {
     "name": "stderr",
     "output_type": "stream",
     "text": [
      "                                                                                \r"
     ]
    }
   ],
   "source": [
    "from pyspark.ml.classification import DecisionTreeClassifier\n",
    "dt = DecisionTreeClassifier(featuresCol = 'features', labelCol = 'label', maxDepth = 10)\n",
    "dtModel = dt.fit(train)\n",
    "df2 = dtModel.transform(vec_df)"
   ]
  },
  {
   "cell_type": "code",
   "execution_count": 23,
   "id": "66bb2fcc",
   "metadata": {},
   "outputs": [],
   "source": [
    "def ExtractFeatureImp(featureImp, dataset, featuresCol):\n",
    "    list_extract = []\n",
    "    for i in dataset.schema[featuresCol].metadata[\"ml_attr\"][\"attrs\"]:\n",
    "        list_extract = list_extract + dataset.schema[featuresCol].metadata[\"ml_attr\"][\"attrs\"][i]\n",
    "    varlist = pd.DataFrame(list_extract)\n",
    "    varlist['score'] = varlist['idx'].apply(lambda x: featureImp[x])\n",
    "    return(varlist.sort_values('score', ascending = False))"
   ]
  },
  {
   "cell_type": "code",
   "execution_count": 27,
   "id": "806cf1db",
   "metadata": {},
   "outputs": [],
   "source": [
    "varlist = ExtractFeatureImp(dtModel.featureImportances, df2, \"features\").head(10)\n",
    "varidx = [x for x in varlist['idx'][0:6]]\n"
   ]
  },
  {
   "cell_type": "code",
   "execution_count": 28,
   "id": "8a25aa00",
   "metadata": {},
   "outputs": [
    {
     "data": {
      "text/plain": [
       "[6, 3, 12, 2, 10, 11]"
      ]
     },
     "execution_count": 28,
     "metadata": {},
     "output_type": "execute_result"
    }
   ],
   "source": [
    "varidx"
   ]
  },
  {
   "cell_type": "code",
   "execution_count": 32,
   "id": "1882dfe4",
   "metadata": {},
   "outputs": [],
   "source": [
    "from pyspark.ml.feature import VectorSlicer\n",
    "slicer = VectorSlicer(inputCol=\"features\", outputCol=\"features2\", indices=varidx)\n",
    "df3 = slicer.transform(df2)"
   ]
  },
  {
   "cell_type": "code",
   "execution_count": 37,
   "id": "5b8dc5ba",
   "metadata": {},
   "outputs": [
    {
     "name": "stderr",
     "output_type": "stream",
     "text": [
      "Exception ignored in: <function JavaWrapper.__del__ at 0x7fdae03369d0>\n",
      "Traceback (most recent call last):\n",
      "  File \"/usr/local/spark/python/pyspark/ml/wrapper.py\", line 39, in __del__\n",
      "    if SparkContext._active_spark_context and self._java_obj is not None:\n",
      "AttributeError: 'DecisionTreeClassifier' object has no attribute '_java_obj'\n",
      "                                                                                \r"
     ]
    }
   ],
   "source": [
    "from pyspark.ml.classification import DecisionTreeClassifier\n",
    "df3 = df3.drop('rawPrediction', 'probability', 'prediction')\n",
    "rf2 = DecisionTreeClassifier(labelCol=\"label\", featuresCol=\"features2\", seed = 8464,\n",
    "                            maxDepth=10, cacheNodeIds = True)\n",
    "dtModel2 = rf2.fit(df3)\n",
    "df4 = dtModel.transform(df3)"
   ]
  },
  {
   "cell_type": "code",
   "execution_count": 38,
   "id": "fc69a32d",
   "metadata": {},
   "outputs": [
    {
     "data": {
      "text/plain": [
       "DataFrame[Date: string, close: double, 14_period_RSI: double, 14_period_STOCH_K: double, MFV: double, 14_period_ATR: double, MOM: double, 14_period_MFI: double, ROC: double, OBV: double, 20_period_CCI: double, 14_period_EMV: double, Williams: double, 14_period_ADX: double, 20_period_TRIX: double, label: int, pred_5: int, pred_7: int, pred_10: int, symbol_encode: double, features: vector, features2: vector, rawPrediction: vector, probability: vector, prediction: double]"
      ]
     },
     "execution_count": 38,
     "metadata": {},
     "output_type": "execute_result"
    }
   ],
   "source": [
    "df4"
   ]
  },
  {
   "cell_type": "code",
   "execution_count": 39,
   "id": "8e3561d2",
   "metadata": {},
   "outputs": [
    {
     "name": "stderr",
     "output_type": "stream",
     "text": [
      "[Stage 95:======================================>                   (2 + 1) / 3]\r"
     ]
    },
    {
     "name": "stdout",
     "output_type": "stream",
     "text": [
      "Prediction Accuracy:  0.456172057374421\n"
     ]
    },
    {
     "name": "stderr",
     "output_type": "stream",
     "text": [
      "\r",
      "                                                                                \r"
     ]
    }
   ],
   "source": [
    "from pyspark.ml.evaluation import MulticlassClassificationEvaluator\n",
    "evaluator=MulticlassClassificationEvaluator(predictionCol=\"prediction\")\n",
    "acc = evaluator.evaluate(df4)\n",
    " \n",
    "print(\"Prediction Accuracy: \", acc)\n",
    " \n",
    "#y_pred=predictions.select(\"prediction\").collect()\n",
    "#y_orig=predictions.select(\"label\").collect()\n"
   ]
  },
  {
   "cell_type": "code",
   "execution_count": 12,
   "id": "2ea62dd6",
   "metadata": {},
   "outputs": [
    {
     "data": {
      "text/plain": [
       "SparseVector(13, {0: 0.0414, 1: 0.0554, 2: 0.0928, 3: 0.0961, 4: 0.0477, 5: 0.0588, 6: 0.0949, 7: 0.0672, 8: 0.0779, 9: 0.0704, 10: 0.1243, 11: 0.053, 12: 0.1201})"
      ]
     },
     "execution_count": 12,
     "metadata": {},
     "output_type": "execute_result"
    }
   ],
   "source": [
    "dtModel.featureImportances"
   ]
  },
  {
   "cell_type": "code",
   "execution_count": null,
   "id": "426442db",
   "metadata": {},
   "outputs": [],
   "source": [
    "pred = dtModel.transform(test)\n",
    "pred.show(3)"
   ]
  },
  {
   "cell_type": "code",
   "execution_count": null,
   "id": "ac53cc45",
   "metadata": {},
   "outputs": [],
   "source": [
    "from sklearn.metrics import classification_report, confusion_matrix\n",
    "cm = confusion_matrix(y_orig, y_pred)\n",
    "print(\"Confusion Matrix:\")\n",
    "print(cm)"
   ]
  },
  {
   "cell_type": "code",
   "execution_count": null,
   "id": "a2010b93",
   "metadata": {},
   "outputs": [],
   "source": [
    "df.printSchema()"
   ]
  },
  {
   "cell_type": "code",
   "execution_count": null,
   "id": "8261f5b1",
   "metadata": {},
   "outputs": [],
   "source": []
  }
 ],
 "metadata": {
  "kernelspec": {
   "display_name": "Python 3 (ipykernel)",
   "language": "python",
   "name": "python3"
  },
  "language_info": {
   "codemirror_mode": {
    "name": "ipython",
    "version": 3
   },
   "file_extension": ".py",
   "mimetype": "text/x-python",
   "name": "python",
   "nbconvert_exporter": "python",
   "pygments_lexer": "ipython3",
   "version": "3.9.7"
  }
 },
 "nbformat": 4,
 "nbformat_minor": 5
}
